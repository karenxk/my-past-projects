{
 "cells": [
  {
   "cell_type": "markdown",
   "metadata": {},
   "source": [
    "Background\n",
    "\n",
    "As a social media company, Social Buzz need to adapt to it’s global scale. Accenture has begun a 3 month POC focusing on these tasks:\n",
    "1. An audit of Social Buzz’s big data practice\n",
    "2. Recommendation for a successful IPO\n",
    "3. Analysis to find Social Buzz’s top 5 most popular categories of content\n",
    "\n",
    "The analystical tasks include:\n",
    "1. understand the client and business problem at hand\n",
    "2. prepare clean data needed to use\n",
    "3. calculate and visualize the top 5 most popular categories of content and other valuable points of the data. "
   ]
  },
  {
   "cell_type": "markdown",
   "metadata": {},
   "source": [
    "Task 2: Data Cleaning\n",
    "\n",
    "The task is to clean three related csv files provided before analying which includes:\n",
    "ReactionTypes.csv\n",
    "Reactions.csv\n",
    "Content.csv\n",
    "\n",
    "\n",
    "1. removing rows that have values which are missing\n",
    "2. changing the data type of some values within a column\n",
    "3. removing columns which are not relevant to this task"
   ]
  },
  {
   "cell_type": "code",
   "execution_count": 172,
   "metadata": {},
   "outputs": [],
   "source": [
    "import pandas as pd\n",
    "import numpy as np\n",
    "import pandas as pd\n",
    "import matplotlib.pyplot as plt\n",
    "import seaborn as sns\n",
    "import datetime"
   ]
  },
  {
   "cell_type": "code",
   "execution_count": 123,
   "metadata": {},
   "outputs": [],
   "source": [
    "# import the files\n",
    "read_con = pd.read_csv('Content.csv')\n",
    "read_reaction = pd.read_csv('Reactions.csv')\n",
    "read_reatype = pd.read_csv('ReactionTypes.csv')"
   ]
  },
  {
   "cell_type": "code",
   "execution_count": 124,
   "metadata": {},
   "outputs": [
    {
     "name": "stdout",
     "output_type": "stream",
     "text": [
      "<class 'pandas.core.frame.DataFrame'>\n",
      "RangeIndex: 1000 entries, 0 to 999\n",
      "Data columns (total 6 columns):\n",
      " #   Column      Non-Null Count  Dtype \n",
      "---  ------      --------------  ----- \n",
      " 0   Unnamed: 0  1000 non-null   int64 \n",
      " 1   Content ID  1000 non-null   object\n",
      " 2   User ID     1000 non-null   object\n",
      " 3   Type        1000 non-null   object\n",
      " 4   Category    1000 non-null   object\n",
      " 5   URL         801 non-null    object\n",
      "dtypes: int64(1), object(5)\n",
      "memory usage: 47.0+ KB\n",
      "<bound method Series.unique of 0             Studying\n",
      "1       healthy eating\n",
      "2       healthy eating\n",
      "3           technology\n",
      "4                 food\n",
      "            ...       \n",
      "995    public speaking\n",
      "996         technology\n",
      "997           veganism\n",
      "998            culture\n",
      "999         technology\n",
      "Name: Category, Length: 1000, dtype: object>\n"
     ]
    }
   ],
   "source": [
    "# check the missing values and data type\n",
    "read_con.info()\n",
    "# read_con[read_con.URL.isnull()].shape\n",
    "# read_con.isna().sum()\n",
    "# read_con_clean = read_con.dropna()\n",
    "# remove unrelated column and URL column which is not good quality\n",
    "read_con.drop(['Unnamed: 0','URL','User ID'], axis=1,inplace = True)\n",
    "# check the categroy quality, found some cells have quotation marks \"\" and cap/lower letter which need to be uniformed\n",
    "print(read_con.Category.unique)\n",
    "# reomve quotation marks\n",
    "read_con.Category = read_con.Category.str.replace('\"','')\n",
    "# all category string be confirmed to lower letter\n",
    "read_con.Category = read_con.Category.str.lower()\n",
    "# count unique categries\n",
    "read_con.Category.nunique()\n",
    "# rename column name 'Type' to 'Content Type'\n",
    "read_con.rename(columns = {'Type':'Content Type'}, inplace = True)\n",
    "# export\n",
    "read_con.to_csv('Content_updated.csv',index = False)"
   ]
  },
  {
   "cell_type": "markdown",
   "metadata": {},
   "source": [
    "Column URL has missing values, but doesnt it affect to analysing if we dont have URL."
   ]
  },
  {
   "cell_type": "code",
   "execution_count": 125,
   "metadata": {},
   "outputs": [
    {
     "name": "stdout",
     "output_type": "stream",
     "text": [
      "<class 'pandas.core.frame.DataFrame'>\n",
      "RangeIndex: 25553 entries, 0 to 25552\n",
      "Data columns (total 5 columns):\n",
      " #   Column      Non-Null Count  Dtype \n",
      "---  ------      --------------  ----- \n",
      " 0   Unnamed: 0  25553 non-null  int64 \n",
      " 1   Content ID  25553 non-null  object\n",
      " 2   User ID     22534 non-null  object\n",
      " 3   Type        24573 non-null  object\n",
      " 4   Datetime    25553 non-null  object\n",
      "dtypes: int64(1), object(4)\n",
      "memory usage: 998.3+ KB\n"
     ]
    },
    {
     "name": "stderr",
     "output_type": "stream",
     "text": [
      "/Users/xiaokangdong/python-virtual-environments/env/lib/python3.7/site-packages/pandas/core/frame.py:5047: SettingWithCopyWarning: \n",
      "A value is trying to be set on a copy of a slice from a DataFrame\n",
      "\n",
      "See the caveats in the documentation: https://pandas.pydata.org/pandas-docs/stable/user_guide/indexing.html#returning-a-view-versus-a-copy\n",
      "  errors=errors,\n"
     ]
    }
   ],
   "source": [
    "# check datatype and missing values\n",
    "read_reaction.info()\n",
    "# change datetime type from string to datetime\n",
    "read_reaction['Datetime'] = pd.to_datetime(read_reaction.Datetime)\n",
    "# remove unrelated column\n",
    "read_reaction.drop(['Unnamed: 0','User ID'], axis=1,inplace = True)\n",
    "# print(type(read_reaction.Datetime))\n",
    "# remove missing values\n",
    "read_reaction_clean = read_reaction.dropna()\n",
    "# rename column name 'Type' to 'Reaction Type'\n",
    "read_reaction_clean.rename(columns = {'Type':'Reaction Type'}, inplace = True)\n",
    "\n",
    "read_reaction_clean.to_csv('Reaction_updated.csv',index = False)\n",
    "\n",
    "\n"
   ]
  },
  {
   "cell_type": "markdown",
   "metadata": {},
   "source": [
    "User ID and Type have missing values. try to mapping the missing value from Contents table instead of simply drop them."
   ]
  },
  {
   "cell_type": "code",
   "execution_count": 126,
   "metadata": {},
   "outputs": [
    {
     "name": "stdout",
     "output_type": "stream",
     "text": [
      "<class 'pandas.core.frame.DataFrame'>\n",
      "RangeIndex: 16 entries, 0 to 15\n",
      "Data columns (total 4 columns):\n",
      " #   Column      Non-Null Count  Dtype \n",
      "---  ------      --------------  ----- \n",
      " 0   Unnamed: 0  16 non-null     int64 \n",
      " 1   Type        16 non-null     object\n",
      " 2   Sentiment   16 non-null     object\n",
      " 3   Score       16 non-null     int64 \n",
      "dtypes: int64(2), object(2)\n",
      "memory usage: 640.0+ bytes\n"
     ]
    }
   ],
   "source": [
    "read_reatype.info()\n",
    "# rename column name 'Type' to 'Reaction Type'\n",
    "read_reatype.rename(columns = {'Type':'Reaction Type'}, inplace = True)\n",
    "# remove unrelated column\n",
    "read_reatype.drop(['Unnamed: 0'], axis=1,inplace = True)\n",
    "# export\n",
    "read_reatype.to_csv('Reactiontype_updated.csv',index= False)"
   ]
  },
  {
   "cell_type": "markdown",
   "metadata": {},
   "source": [
    "As shown above, no missing values in this table."
   ]
  },
  {
   "cell_type": "markdown",
   "metadata": {},
   "source": [
    "Task 3: Data analyst\n",
    "\n",
    "1. Create a final data set by merging three tables together\n",
    "\n",
    " Using the Reaction table as base table, then first join the relevant columns from Content data set, and then the Reaction Types data set.\n",
    " \n",
    "2. Figure out the Top 5 performing categories\n",
    "\n",
    "Add up the total scores for each category.\n",
    "3. Further exploring points\n",
    "\n",
    "such as month with most traffic, to compare the top 5 with tail 5 etc."
   ]
  },
  {
   "cell_type": "code",
   "execution_count": 132,
   "metadata": {},
   "outputs": [],
   "source": [
    "# merge read_reaction_clean with read_con and then with read_reatype\n",
    "merge = pd.merge(read_reaction_clean, read_con, on=['Content ID']).merge(read_reatype, on = ['Reaction Type'])"
   ]
  },
  {
   "cell_type": "code",
   "execution_count": 131,
   "metadata": {},
   "outputs": [
    {
     "data": {
      "text/plain": [
       "Category\n",
       "animals            74965\n",
       "science            71168\n",
       "healthy eating     69339\n",
       "technology         68738\n",
       "food               66676\n",
       "culture            66579\n",
       "travel             64880\n",
       "cooking            64756\n",
       "soccer             57783\n",
       "education          57436\n",
       "fitness            55323\n",
       "studying           54269\n",
       "dogs               52511\n",
       "tennis             50339\n",
       "veganism           49619\n",
       "public speaking    49264\n",
       "Name: Score, dtype: int64"
      ]
     },
     "execution_count": 131,
     "metadata": {},
     "output_type": "execute_result"
    }
   ],
   "source": [
    "# Add up the scores group by each category and sort the value descendly\n",
    "mg = merge.groupby(['Category']).Score.sum().sort_values(ascending = False)\n",
    "mg"
   ]
  },
  {
   "cell_type": "code",
   "execution_count": 163,
   "metadata": {},
   "outputs": [
    {
     "data": {
      "text/plain": [
       "Category\n",
       "animals            1897\n",
       "cooking            1664\n",
       "culture            1676\n",
       "dogs               1338\n",
       "education          1433\n",
       "fitness            1395\n",
       "food               1699\n",
       "healthy eating     1717\n",
       "public speaking    1217\n",
       "science            1796\n",
       "soccer             1457\n",
       "studying           1363\n",
       "technology         1698\n",
       "tennis             1328\n",
       "travel             1647\n",
       "veganism           1248\n",
       "Name: Reaction Type, dtype: int64"
      ]
     },
     "execution_count": 163,
     "metadata": {},
     "output_type": "execute_result"
    }
   ],
   "source": [
    "# count reactions for each categories\n",
    "merge.groupby(['Category'])['Reaction Type'].count()"
   ]
  },
  {
   "cell_type": "code",
   "execution_count": 185,
   "metadata": {},
   "outputs": [
    {
     "data": {
      "text/plain": [
       "month\n",
       "1     781\n",
       "2     755\n",
       "3     753\n",
       "4     736\n",
       "5     759\n",
       "6     762\n",
       "7     778\n",
       "8     773\n",
       "9     754\n",
       "10    771\n",
       "11    768\n",
       "12    756\n",
       "Name: Content ID, dtype: int64"
      ]
     },
     "execution_count": 185,
     "metadata": {},
     "output_type": "execute_result"
    }
   ],
   "source": [
    "# count # of content ID for each month\n",
    "merge['month'] = merge['Datetime'].dt.month\n",
    "merge.groupby(['month'])['Content ID'].nunique()\n"
   ]
  },
  {
   "cell_type": "code",
   "execution_count": 153,
   "metadata": {},
   "outputs": [
    {
     "data": {
      "image/png": "[encoded data removed]",
      "text/plain": [
       "<Figure size 640x480 with 1 Axes>"
      ]
     },
     "metadata": {},
     "output_type": "display_data"
    }
   ],
   "source": [
    "# visualized top 5 category\n",
    "head = mg.head(5)\n",
    "top = pd.DataFrame({'Category': head.index, 'Score':head.values})\n",
    "sns.barplot(data = top, x = head.index, y = head.values,palette=[\"#FF8C00\",\"#FF0000\",\"#D8BFD8\",\"#D3D3D3\",\"#FFD700\",\"#432371\"])\n",
    "plt.title(\"TOP 5 Cateogry\")\n",
    "plt.ylabel(\"Score\")\n",
    "plt.xlabel('Category')\n",
    "plt.show()"
   ]
  },
  {
   "cell_type": "code",
   "execution_count": 155,
   "metadata": {},
   "outputs": [
    {
     "data": {
      "image/png": "[encoded data removed]",
      "text/plain": [
       "<Figure size 640x480 with 1 Axes>"
      ]
     },
     "metadata": {},
     "output_type": "display_data"
    }
   ],
   "source": [
    "# visualized least popular 5 categories\n",
    "tail = mg.tail(5)\n",
    "last = pd.DataFrame({'Category': tail.index, 'Score':tail.values})\n",
    "sns.barplot(data = last, x = tail.index, y = tail.values)\n",
    "plt.title(\"Unpopular Cateogry\")\n",
    "plt.ylabel(\"Score\")\n",
    "plt.xlabel('Category')\n",
    "plt.show()"
   ]
  },
  {
   "cell_type": "code",
   "execution_count": 133,
   "metadata": {},
   "outputs": [],
   "source": [
    "# export final and clean dataset\n",
    "c = pd.merge(merge, mg, on = ['Category'],suffixes=('', '_sum')).sort_values('Score_sum', ascending = False)\n",
    "c.to_csv('merged dataset with top 5 categories.csv',index = False)\n"
   ]
  },
  {
   "cell_type": "markdown",
   "metadata": {},
   "source": [
    "Next step is to present findings with following structure:\n",
    "\n",
    "Agenda - What will your presentation cover?\n",
    "Project Recap - What are the key points from the brief?\n",
    "Problem - What is the problem that you answer in this presentation?\n",
    "The Analytics team - Who is on your team?\n",
    "As a reminder from the earlier task - this includes: Andrew Fleming (Chief Technical Architect), Marcus Rompton (Senior Principle), and you\n",
    "Process - How did you complete your analysis?"
   ]
  }
 ],
 "metadata": {
  "kernelspec": {
   "display_name": "Python 3.7.4 ('env': venv)",
   "language": "python",
   "name": "python3"
  },
  "language_info": {
   "codemirror_mode": {
    "name": "ipython",
    "version": 3
   },
   "file_extension": ".py",
   "mimetype": "text/x-python",
   "name": "python",
   "nbconvert_exporter": "python",
   "pygments_lexer": "ipython3",
   "version": "3.7.4"
  },
  "orig_nbformat": 4,
  "vscode": {
   "interpreter": {
    "hash": "ad0fc56e736dffbdf0662b238840619c8d40a9373a4498836f93c986a6b6d78f"
   }
  }
 },
 "nbformat": 4,
 "nbformat_minor": 2
}
